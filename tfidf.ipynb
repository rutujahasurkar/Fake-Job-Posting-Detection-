{
  "nbformat": 4,
  "nbformat_minor": 0,
  "metadata": {
    "colab": {
      "name": "tfidf.ipynb",
      "provenance": []
    },
    "kernelspec": {
      "name": "python3",
      "display_name": "Python 3"
    }
  },
  "cells": [
    {
      "cell_type": "code",
      "metadata": {
        "id": "oMovQCdYcM1p",
        "colab_type": "code",
        "colab": {}
      },
      "source": [
        "import numpy as np \n",
        "import pandas as pd\n",
        "import re"
      ],
      "execution_count": 0,
      "outputs": []
    },
    {
      "cell_type": "code",
      "metadata": {
        "id": "bZfsozaTdK4j",
        "colab_type": "code",
        "outputId": "ce8a639b-adb8-46e0-cd27-14d734dc82b2",
        "colab": {
          "base_uri": "https://localhost:8080/",
          "height": 34
        }
      },
      "source": [
        "from google.colab import drive\n",
        "drive.mount('/content/drive')"
      ],
      "execution_count": 29,
      "outputs": [
        {
          "output_type": "stream",
          "text": [
            "Drive already mounted at /content/drive; to attempt to forcibly remount, call drive.mount(\"/content/drive\", force_remount=True).\n"
          ],
          "name": "stdout"
        }
      ]
    },
    {
      "cell_type": "code",
      "metadata": {
        "id": "2XFojCbNdNAT",
        "colab_type": "code",
        "outputId": "9e97824e-2b87-4e2b-925e-79a10e41ea93",
        "colab": {
          "base_uri": "https://localhost:8080/",
          "height": 51
        }
      },
      "source": [
        "df = pd.read_csv('/content/drive/My Drive/fake_job_postings.csv', engine='python',error_bad_lines=False)\n",
        "df\n",
        "df[df['fraudulent']==1].shape"
      ],
      "execution_count": 82,
      "outputs": [
        {
          "output_type": "stream",
          "text": [
            "Skipping line 5697: unexpected end of data\n"
          ],
          "name": "stderr"
        },
        {
          "output_type": "execute_result",
          "data": {
            "text/plain": [
              "(237, 18)"
            ]
          },
          "metadata": {
            "tags": []
          },
          "execution_count": 82
        }
      ]
    },
    {
      "cell_type": "code",
      "metadata": {
        "id": "YLgAaP0XrSrB",
        "colab_type": "code",
        "colab": {}
      },
      "source": [
        "dat = {'text': []}\n",
        "data = pd.DataFrame(data=dat)"
      ],
      "execution_count": 0,
      "outputs": []
    },
    {
      "cell_type": "code",
      "metadata": {
        "id": "3u_pkB_urUtJ",
        "colab_type": "code",
        "outputId": "fd88bf1b-ac89-452a-86a2-7067131e75de",
        "colab": {
          "base_uri": "https://localhost:8080/",
          "height": 34
        }
      },
      "source": [
        "df.title.fillna('', inplace=True)\n",
        "df.company_profile.fillna('', inplace=True)\n",
        "df.description.fillna('', inplace=True)\n",
        "df.requirements.fillna('', inplace=True)\n",
        "\n",
        "data['text'] = df['title'] + ' ' + df['company_profile'] + ' ' + df['description'] + ' ' + df['requirements']\n",
        "data\n",
        "data['fraudulent'] = df['fraudulent']\n",
        "data[data['fraudulent']==1].shape\n"
      ],
      "execution_count": 84,
      "outputs": [
        {
          "output_type": "execute_result",
          "data": {
            "text/plain": [
              "(237, 2)"
            ]
          },
          "metadata": {
            "tags": []
          },
          "execution_count": 84
        }
      ]
    },
    {
      "cell_type": "code",
      "metadata": {
        "id": "lyf1yOotdc5o",
        "colab_type": "code",
        "outputId": "36d4ad6f-b32c-4dec-bf06-85249fc3a797",
        "colab": {
          "base_uri": "https://localhost:8080/",
          "height": 119
        }
      },
      "source": [
        "from nltk.corpus import stopwords\n",
        "import nltk\n",
        "from nltk.stem.snowball import SnowballStemmer\n",
        "from nltk.stem import WordNetLemmatizer\n",
        "nltk.download('stopwords')\n",
        "nltk.download('wordnet')\n",
        "nltk.download('punkt')\n",
        "stop_words = set(stopwords.words('english')) \n",
        "from nltk.tokenize import word_tokenize\n",
        "\n"
      ],
      "execution_count": 85,
      "outputs": [
        {
          "output_type": "stream",
          "text": [
            "[nltk_data] Downloading package stopwords to /root/nltk_data...\n",
            "[nltk_data]   Package stopwords is already up-to-date!\n",
            "[nltk_data] Downloading package wordnet to /root/nltk_data...\n",
            "[nltk_data]   Package wordnet is already up-to-date!\n",
            "[nltk_data] Downloading package punkt to /root/nltk_data...\n",
            "[nltk_data]   Package punkt is already up-to-date!\n"
          ],
          "name": "stdout"
        }
      ]
    },
    {
      "cell_type": "code",
      "metadata": {
        "id": "lEljAG8tbCvn",
        "colab_type": "code",
        "outputId": "51684f79-abb1-471c-d77b-47a1e7d58cd4",
        "colab": {
          "base_uri": "https://localhost:8080/",
          "height": 419
        }
      },
      "source": [
        "stemmer = SnowballStemmer(\"english\")\n",
        "lem=WordNetLemmatizer()\n",
        "data['text'] = data['text'].map(lambda x: re.sub(r\"\\W\", \" \",str(x)))\n",
        "data['text'] = data['text'].map(lambda x: re.sub(r'[,\\.!?]', \" \",str(x)))\n",
        "data['text'] = data['text'].map(lambda x: re.sub(r\" \\d+\", \" \",str(x)))\n",
        "data['text'] = data['text'].map(lambda x: word_tokenize(x.lower()))\n",
        "data['text'] = data['text'].map(lambda x: ' '.join(x))\n",
        "data['text'] = data['text'].apply(lambda x: ' '.join([word for word in x.split() if word not in stop_words]))\n",
        "data['lemm'] = data['text'].apply(lambda x: ' '.join([lem.lemmatize(y) for y in x.split()]))\n",
        "data['stemm'] = data['lemm'].apply(lambda x: ' '.join([stemmer.stem(y) for y in x.split()]))\n",
        "data['text'] = data['stemm']\n",
        "\n",
        "# data['text']=data['text'].str.lower()\n",
        "# data['text']=data['text'].str.replace('\\d+', '')\n",
        "# data['text']=data['text'].str.replace(r\"http\\S+\", '')\n",
        "# data\n",
        "# df[5690]\n",
        "data"
      ],
      "execution_count": 86,
      "outputs": [
        {
          "output_type": "execute_result",
          "data": {
            "text/html": [
              "<div>\n",
              "<style scoped>\n",
              "    .dataframe tbody tr th:only-of-type {\n",
              "        vertical-align: middle;\n",
              "    }\n",
              "\n",
              "    .dataframe tbody tr th {\n",
              "        vertical-align: top;\n",
              "    }\n",
              "\n",
              "    .dataframe thead th {\n",
              "        text-align: right;\n",
              "    }\n",
              "</style>\n",
              "<table border=\"1\" class=\"dataframe\">\n",
              "  <thead>\n",
              "    <tr style=\"text-align: right;\">\n",
              "      <th></th>\n",
              "      <th>text</th>\n",
              "      <th>fraudulent</th>\n",
              "      <th>lemm</th>\n",
              "      <th>stemm</th>\n",
              "    </tr>\n",
              "  </thead>\n",
              "  <tbody>\n",
              "    <tr>\n",
              "      <th>0</th>\n",
              "      <td>market intern food52 creat groundbreak award w...</td>\n",
              "      <td>0</td>\n",
              "      <td>marketing intern food52 created groundbreaking...</td>\n",
              "      <td>market intern food52 creat groundbreak award w...</td>\n",
              "    </tr>\n",
              "    <tr>\n",
              "      <th>1</th>\n",
              "      <td>custom servic cloud video product second world...</td>\n",
              "      <td>0</td>\n",
              "      <td>customer service cloud video production second...</td>\n",
              "      <td>custom servic cloud video product second world...</td>\n",
              "    </tr>\n",
              "    <tr>\n",
              "      <th>2</th>\n",
              "      <td>commiss machineri assist cma valor servic prov...</td>\n",
              "      <td>0</td>\n",
              "      <td>commissioning machinery assistant cma valor se...</td>\n",
              "      <td>commiss machineri assist cma valor servic prov...</td>\n",
              "    </tr>\n",
              "    <tr>\n",
              "      <th>3</th>\n",
              "      <td>account execut washington dc passion improv qu...</td>\n",
              "      <td>0</td>\n",
              "      <td>account executive washington dc passion improv...</td>\n",
              "      <td>account execut washington dc passion improv qu...</td>\n",
              "    </tr>\n",
              "    <tr>\n",
              "      <th>4</th>\n",
              "      <td>bill review manag spotsourc solut llc global h...</td>\n",
              "      <td>0</td>\n",
              "      <td>bill review manager spotsource solution llc gl...</td>\n",
              "      <td>bill review manag spotsourc solut llc global h...</td>\n",
              "    </tr>\n",
              "    <tr>\n",
              "      <th>...</th>\n",
              "      <td>...</td>\n",
              "      <td>...</td>\n",
              "      <td>...</td>\n",
              "      <td>...</td>\n",
              "    </tr>\n",
              "    <tr>\n",
              "      <th>5690</th>\n",
              "      <td>field sale execut job titl field sale execut c...</td>\n",
              "      <td>0</td>\n",
              "      <td>field sale executive job title field sale exec...</td>\n",
              "      <td>field sale execut job titl field sale execut c...</td>\n",
              "    </tr>\n",
              "    <tr>\n",
              "      <th>5691</th>\n",
              "      <td>network market look make anywher month look pa...</td>\n",
              "      <td>1</td>\n",
              "      <td>network marketing looking make anywhere month ...</td>\n",
              "      <td>network market look make anywher month look pa...</td>\n",
              "    </tr>\n",
              "    <tr>\n",
              "      <th>5692</th>\n",
              "      <td>oud stage market summaview een jong bedrijf ui...</td>\n",
              "      <td>0</td>\n",
              "      <td>oud stage marketing summaview een jong bedrijf...</td>\n",
              "      <td>oud stage market summaview een jong bedrijf ui...</td>\n",
              "    </tr>\n",
              "    <tr>\n",
              "      <th>5693</th>\n",
              "      <td>mobil develop discoveroom grand vision chang h...</td>\n",
              "      <td>0</td>\n",
              "      <td>mobile developer discoveroom grand vision chan...</td>\n",
              "      <td>mobil develop discoveroom grand vision chang h...</td>\n",
              "    </tr>\n",
              "    <tr>\n",
              "      <th>5694</th>\n",
              "      <td>pr comm manag hous ink chang way peopl communi...</td>\n",
              "      <td>0</td>\n",
              "      <td>pr comms manager house inkly changing way peop...</td>\n",
              "      <td>pr comm manag hous ink chang way peopl communi...</td>\n",
              "    </tr>\n",
              "  </tbody>\n",
              "</table>\n",
              "<p>5695 rows × 4 columns</p>\n",
              "</div>"
            ],
            "text/plain": [
              "                                                   text  ...                                              stemm\n",
              "0     market intern food52 creat groundbreak award w...  ...  market intern food52 creat groundbreak award w...\n",
              "1     custom servic cloud video product second world...  ...  custom servic cloud video product second world...\n",
              "2     commiss machineri assist cma valor servic prov...  ...  commiss machineri assist cma valor servic prov...\n",
              "3     account execut washington dc passion improv qu...  ...  account execut washington dc passion improv qu...\n",
              "4     bill review manag spotsourc solut llc global h...  ...  bill review manag spotsourc solut llc global h...\n",
              "...                                                 ...  ...                                                ...\n",
              "5690  field sale execut job titl field sale execut c...  ...  field sale execut job titl field sale execut c...\n",
              "5691  network market look make anywher month look pa...  ...  network market look make anywher month look pa...\n",
              "5692  oud stage market summaview een jong bedrijf ui...  ...  oud stage market summaview een jong bedrijf ui...\n",
              "5693  mobil develop discoveroom grand vision chang h...  ...  mobil develop discoveroom grand vision chang h...\n",
              "5694  pr comm manag hous ink chang way peopl communi...  ...  pr comm manag hous ink chang way peopl communi...\n",
              "\n",
              "[5695 rows x 4 columns]"
            ]
          },
          "metadata": {
            "tags": []
          },
          "execution_count": 86
        }
      ]
    },
    {
      "cell_type": "code",
      "metadata": {
        "id": "hOVIH26ab4Ln",
        "colab_type": "code",
        "colab": {}
      },
      "source": [
        "data=data.drop(columns=['lemm', 'stemm'])"
      ],
      "execution_count": 0,
      "outputs": []
    },
    {
      "cell_type": "code",
      "metadata": {
        "id": "DY_lz_ZtsWoL",
        "colab_type": "code",
        "outputId": "944f020e-e6f9-429d-874b-64c38b6de823",
        "colab": {
          "base_uri": "https://localhost:8080/",
          "height": 436
        }
      },
      "source": [
        "print(data[data['fraudulent']==1].shape)\n",
        "data.dropna(inplace=True)\n",
        "data[data['fraudulent']==1].shape\n",
        "data"
      ],
      "execution_count": 88,
      "outputs": [
        {
          "output_type": "stream",
          "text": [
            "(237, 2)\n"
          ],
          "name": "stdout"
        },
        {
          "output_type": "execute_result",
          "data": {
            "text/html": [
              "<div>\n",
              "<style scoped>\n",
              "    .dataframe tbody tr th:only-of-type {\n",
              "        vertical-align: middle;\n",
              "    }\n",
              "\n",
              "    .dataframe tbody tr th {\n",
              "        vertical-align: top;\n",
              "    }\n",
              "\n",
              "    .dataframe thead th {\n",
              "        text-align: right;\n",
              "    }\n",
              "</style>\n",
              "<table border=\"1\" class=\"dataframe\">\n",
              "  <thead>\n",
              "    <tr style=\"text-align: right;\">\n",
              "      <th></th>\n",
              "      <th>text</th>\n",
              "      <th>fraudulent</th>\n",
              "    </tr>\n",
              "  </thead>\n",
              "  <tbody>\n",
              "    <tr>\n",
              "      <th>0</th>\n",
              "      <td>market intern food52 creat groundbreak award w...</td>\n",
              "      <td>0</td>\n",
              "    </tr>\n",
              "    <tr>\n",
              "      <th>1</th>\n",
              "      <td>custom servic cloud video product second world...</td>\n",
              "      <td>0</td>\n",
              "    </tr>\n",
              "    <tr>\n",
              "      <th>2</th>\n",
              "      <td>commiss machineri assist cma valor servic prov...</td>\n",
              "      <td>0</td>\n",
              "    </tr>\n",
              "    <tr>\n",
              "      <th>3</th>\n",
              "      <td>account execut washington dc passion improv qu...</td>\n",
              "      <td>0</td>\n",
              "    </tr>\n",
              "    <tr>\n",
              "      <th>4</th>\n",
              "      <td>bill review manag spotsourc solut llc global h...</td>\n",
              "      <td>0</td>\n",
              "    </tr>\n",
              "    <tr>\n",
              "      <th>...</th>\n",
              "      <td>...</td>\n",
              "      <td>...</td>\n",
              "    </tr>\n",
              "    <tr>\n",
              "      <th>5690</th>\n",
              "      <td>field sale execut job titl field sale execut c...</td>\n",
              "      <td>0</td>\n",
              "    </tr>\n",
              "    <tr>\n",
              "      <th>5691</th>\n",
              "      <td>network market look make anywher month look pa...</td>\n",
              "      <td>1</td>\n",
              "    </tr>\n",
              "    <tr>\n",
              "      <th>5692</th>\n",
              "      <td>oud stage market summaview een jong bedrijf ui...</td>\n",
              "      <td>0</td>\n",
              "    </tr>\n",
              "    <tr>\n",
              "      <th>5693</th>\n",
              "      <td>mobil develop discoveroom grand vision chang h...</td>\n",
              "      <td>0</td>\n",
              "    </tr>\n",
              "    <tr>\n",
              "      <th>5694</th>\n",
              "      <td>pr comm manag hous ink chang way peopl communi...</td>\n",
              "      <td>0</td>\n",
              "    </tr>\n",
              "  </tbody>\n",
              "</table>\n",
              "<p>5695 rows × 2 columns</p>\n",
              "</div>"
            ],
            "text/plain": [
              "                                                   text  fraudulent\n",
              "0     market intern food52 creat groundbreak award w...           0\n",
              "1     custom servic cloud video product second world...           0\n",
              "2     commiss machineri assist cma valor servic prov...           0\n",
              "3     account execut washington dc passion improv qu...           0\n",
              "4     bill review manag spotsourc solut llc global h...           0\n",
              "...                                                 ...         ...\n",
              "5690  field sale execut job titl field sale execut c...           0\n",
              "5691  network market look make anywher month look pa...           1\n",
              "5692  oud stage market summaview een jong bedrijf ui...           0\n",
              "5693  mobil develop discoveroom grand vision chang h...           0\n",
              "5694  pr comm manag hous ink chang way peopl communi...           0\n",
              "\n",
              "[5695 rows x 2 columns]"
            ]
          },
          "metadata": {
            "tags": []
          },
          "execution_count": 88
        }
      ]
    },
    {
      "cell_type": "code",
      "metadata": {
        "id": "djZBd9kWdO8Q",
        "colab_type": "code",
        "colab": {}
      },
      "source": [
        "# df['department'].shape"
      ],
      "execution_count": 0,
      "outputs": []
    },
    {
      "cell_type": "code",
      "metadata": {
        "id": "v0Yemn7lfTly",
        "colab_type": "code",
        "outputId": "c9f7dba4-8d61-4cf9-d83b-69bad0c0ac10",
        "colab": {
          "base_uri": "https://localhost:8080/",
          "height": 419
        }
      },
      "source": [
        "# from nltk.corpus import stopwords\n",
        "# import nltk\n",
        "# from nltk.stem.snowball import SnowballStemmer\n",
        "# from nltk.stem import WordNetLemmatizer\n",
        "# nltk.download('stopwords')\n",
        "# nltk.download('wordnet')\n",
        "# stop_words = set(stopwords.words('english')) \n",
        "# data['text'] = data['text'].apply(lambda x: ' '.join([word for word in x.split() if word not in stop_words]))\n",
        "# # Use English stemmer.\n",
        "# stemmer = SnowballStemmer(\"english\")\n",
        "# lem=WordNetLemmatizer()\n",
        "\n",
        "# data['lemm'] = data['text'].apply(lambda x: ' '.join([lem.lemmatize(y) for y in x.split()]))\n",
        "# data['stemmed'] = data['lemm'].apply(lambda x: ' '.join([stemmer.stem(y) for y in x.split()]))\n",
        "# data['text'] = data['stemmed'].str.replace('[^A-z] ', '')\n",
        "data"
      ],
      "execution_count": 90,
      "outputs": [
        {
          "output_type": "execute_result",
          "data": {
            "text/html": [
              "<div>\n",
              "<style scoped>\n",
              "    .dataframe tbody tr th:only-of-type {\n",
              "        vertical-align: middle;\n",
              "    }\n",
              "\n",
              "    .dataframe tbody tr th {\n",
              "        vertical-align: top;\n",
              "    }\n",
              "\n",
              "    .dataframe thead th {\n",
              "        text-align: right;\n",
              "    }\n",
              "</style>\n",
              "<table border=\"1\" class=\"dataframe\">\n",
              "  <thead>\n",
              "    <tr style=\"text-align: right;\">\n",
              "      <th></th>\n",
              "      <th>text</th>\n",
              "      <th>fraudulent</th>\n",
              "    </tr>\n",
              "  </thead>\n",
              "  <tbody>\n",
              "    <tr>\n",
              "      <th>0</th>\n",
              "      <td>market intern food52 creat groundbreak award w...</td>\n",
              "      <td>0</td>\n",
              "    </tr>\n",
              "    <tr>\n",
              "      <th>1</th>\n",
              "      <td>custom servic cloud video product second world...</td>\n",
              "      <td>0</td>\n",
              "    </tr>\n",
              "    <tr>\n",
              "      <th>2</th>\n",
              "      <td>commiss machineri assist cma valor servic prov...</td>\n",
              "      <td>0</td>\n",
              "    </tr>\n",
              "    <tr>\n",
              "      <th>3</th>\n",
              "      <td>account execut washington dc passion improv qu...</td>\n",
              "      <td>0</td>\n",
              "    </tr>\n",
              "    <tr>\n",
              "      <th>4</th>\n",
              "      <td>bill review manag spotsourc solut llc global h...</td>\n",
              "      <td>0</td>\n",
              "    </tr>\n",
              "    <tr>\n",
              "      <th>...</th>\n",
              "      <td>...</td>\n",
              "      <td>...</td>\n",
              "    </tr>\n",
              "    <tr>\n",
              "      <th>5690</th>\n",
              "      <td>field sale execut job titl field sale execut c...</td>\n",
              "      <td>0</td>\n",
              "    </tr>\n",
              "    <tr>\n",
              "      <th>5691</th>\n",
              "      <td>network market look make anywher month look pa...</td>\n",
              "      <td>1</td>\n",
              "    </tr>\n",
              "    <tr>\n",
              "      <th>5692</th>\n",
              "      <td>oud stage market summaview een jong bedrijf ui...</td>\n",
              "      <td>0</td>\n",
              "    </tr>\n",
              "    <tr>\n",
              "      <th>5693</th>\n",
              "      <td>mobil develop discoveroom grand vision chang h...</td>\n",
              "      <td>0</td>\n",
              "    </tr>\n",
              "    <tr>\n",
              "      <th>5694</th>\n",
              "      <td>pr comm manag hous ink chang way peopl communi...</td>\n",
              "      <td>0</td>\n",
              "    </tr>\n",
              "  </tbody>\n",
              "</table>\n",
              "<p>5695 rows × 2 columns</p>\n",
              "</div>"
            ],
            "text/plain": [
              "                                                   text  fraudulent\n",
              "0     market intern food52 creat groundbreak award w...           0\n",
              "1     custom servic cloud video product second world...           0\n",
              "2     commiss machineri assist cma valor servic prov...           0\n",
              "3     account execut washington dc passion improv qu...           0\n",
              "4     bill review manag spotsourc solut llc global h...           0\n",
              "...                                                 ...         ...\n",
              "5690  field sale execut job titl field sale execut c...           0\n",
              "5691  network market look make anywher month look pa...           1\n",
              "5692  oud stage market summaview een jong bedrijf ui...           0\n",
              "5693  mobil develop discoveroom grand vision chang h...           0\n",
              "5694  pr comm manag hous ink chang way peopl communi...           0\n",
              "\n",
              "[5695 rows x 2 columns]"
            ]
          },
          "metadata": {
            "tags": []
          },
          "execution_count": 90
        }
      ]
    },
    {
      "cell_type": "code",
      "metadata": {
        "id": "c1yqxnL9t5pV",
        "colab_type": "code",
        "colab": {}
      },
      "source": [
        "from sklearn.feature_extraction.text import TfidfVectorizer\n",
        "\n",
        "# create the transform\n",
        "vectorizer = TfidfVectorizer(stop_words='english')"
      ],
      "execution_count": 0,
      "outputs": []
    },
    {
      "cell_type": "code",
      "metadata": {
        "id": "tY2fcX75wGOO",
        "colab_type": "code",
        "colab": {}
      },
      "source": [
        "X=vectorizer.fit_transform(data['text'])"
      ],
      "execution_count": 0,
      "outputs": []
    },
    {
      "cell_type": "code",
      "metadata": {
        "id": "3CY9ad4RwJ_o",
        "colab_type": "code",
        "colab": {}
      },
      "source": [
        "# data['vector'] = vectorizer.transform(data['text'])\n",
        "# print(vector.shape)\n",
        "# print(vector)"
      ],
      "execution_count": 0,
      "outputs": []
    },
    {
      "cell_type": "code",
      "metadata": {
        "id": "-FUu3masMwrF",
        "colab_type": "code",
        "outputId": "c61929b7-1dc9-4670-bcef-918a8a59c9a0",
        "colab": {
          "base_uri": "https://localhost:8080/",
          "height": 419
        }
      },
      "source": [
        "data"
      ],
      "execution_count": 94,
      "outputs": [
        {
          "output_type": "execute_result",
          "data": {
            "text/html": [
              "<div>\n",
              "<style scoped>\n",
              "    .dataframe tbody tr th:only-of-type {\n",
              "        vertical-align: middle;\n",
              "    }\n",
              "\n",
              "    .dataframe tbody tr th {\n",
              "        vertical-align: top;\n",
              "    }\n",
              "\n",
              "    .dataframe thead th {\n",
              "        text-align: right;\n",
              "    }\n",
              "</style>\n",
              "<table border=\"1\" class=\"dataframe\">\n",
              "  <thead>\n",
              "    <tr style=\"text-align: right;\">\n",
              "      <th></th>\n",
              "      <th>text</th>\n",
              "      <th>fraudulent</th>\n",
              "    </tr>\n",
              "  </thead>\n",
              "  <tbody>\n",
              "    <tr>\n",
              "      <th>0</th>\n",
              "      <td>market intern food52 creat groundbreak award w...</td>\n",
              "      <td>0</td>\n",
              "    </tr>\n",
              "    <tr>\n",
              "      <th>1</th>\n",
              "      <td>custom servic cloud video product second world...</td>\n",
              "      <td>0</td>\n",
              "    </tr>\n",
              "    <tr>\n",
              "      <th>2</th>\n",
              "      <td>commiss machineri assist cma valor servic prov...</td>\n",
              "      <td>0</td>\n",
              "    </tr>\n",
              "    <tr>\n",
              "      <th>3</th>\n",
              "      <td>account execut washington dc passion improv qu...</td>\n",
              "      <td>0</td>\n",
              "    </tr>\n",
              "    <tr>\n",
              "      <th>4</th>\n",
              "      <td>bill review manag spotsourc solut llc global h...</td>\n",
              "      <td>0</td>\n",
              "    </tr>\n",
              "    <tr>\n",
              "      <th>...</th>\n",
              "      <td>...</td>\n",
              "      <td>...</td>\n",
              "    </tr>\n",
              "    <tr>\n",
              "      <th>5690</th>\n",
              "      <td>field sale execut job titl field sale execut c...</td>\n",
              "      <td>0</td>\n",
              "    </tr>\n",
              "    <tr>\n",
              "      <th>5691</th>\n",
              "      <td>network market look make anywher month look pa...</td>\n",
              "      <td>1</td>\n",
              "    </tr>\n",
              "    <tr>\n",
              "      <th>5692</th>\n",
              "      <td>oud stage market summaview een jong bedrijf ui...</td>\n",
              "      <td>0</td>\n",
              "    </tr>\n",
              "    <tr>\n",
              "      <th>5693</th>\n",
              "      <td>mobil develop discoveroom grand vision chang h...</td>\n",
              "      <td>0</td>\n",
              "    </tr>\n",
              "    <tr>\n",
              "      <th>5694</th>\n",
              "      <td>pr comm manag hous ink chang way peopl communi...</td>\n",
              "      <td>0</td>\n",
              "    </tr>\n",
              "  </tbody>\n",
              "</table>\n",
              "<p>5695 rows × 2 columns</p>\n",
              "</div>"
            ],
            "text/plain": [
              "                                                   text  fraudulent\n",
              "0     market intern food52 creat groundbreak award w...           0\n",
              "1     custom servic cloud video product second world...           0\n",
              "2     commiss machineri assist cma valor servic prov...           0\n",
              "3     account execut washington dc passion improv qu...           0\n",
              "4     bill review manag spotsourc solut llc global h...           0\n",
              "...                                                 ...         ...\n",
              "5690  field sale execut job titl field sale execut c...           0\n",
              "5691  network market look make anywher month look pa...           1\n",
              "5692  oud stage market summaview een jong bedrijf ui...           0\n",
              "5693  mobil develop discoveroom grand vision chang h...           0\n",
              "5694  pr comm manag hous ink chang way peopl communi...           0\n",
              "\n",
              "[5695 rows x 2 columns]"
            ]
          },
          "metadata": {
            "tags": []
          },
          "execution_count": 94
        }
      ]
    },
    {
      "cell_type": "code",
      "metadata": {
        "id": "8-KUNkA-wOLZ",
        "colab_type": "code",
        "colab": {}
      },
      "source": [
        "from sklearn.model_selection import train_test_split\n",
        "\n",
        "# splitting dataset into training and test data\n",
        "# trainX, testX = train_test_split(X, test_size=0.30, random_state=1)\n",
        "# trainY, testY = train_test_split(data['fraudulent'], test_size=0.30, random_state=1)\n",
        "# trainX.shape"
      ],
      "execution_count": 0,
      "outputs": []
    },
    {
      "cell_type": "code",
      "metadata": {
        "id": "kZrW4ZIFNLHe",
        "colab_type": "code",
        "colab": {}
      },
      "source": [
        "# trainX"
      ],
      "execution_count": 0,
      "outputs": []
    },
    {
      "cell_type": "code",
      "metadata": {
        "id": "ew3JVBDPwazG",
        "colab_type": "code",
        "colab": {}
      },
      "source": [
        "\n",
        "# print()"
      ],
      "execution_count": 0,
      "outputs": []
    },
    {
      "cell_type": "code",
      "metadata": {
        "id": "BEWPRwLUNiBV",
        "colab_type": "code",
        "colab": {}
      },
      "source": [
        "# trainX"
      ],
      "execution_count": 0,
      "outputs": []
    },
    {
      "cell_type": "code",
      "metadata": {
        "id": "Qixfgl0FNooZ",
        "colab_type": "code",
        "colab": {}
      },
      "source": [
        "from sklearn.metrics import plot_confusion_matrix\n",
        "def fitPredict(models_dict,X_train,y_train,X_test,y_test):\n",
        "  acc={}\n",
        "  spec={}\n",
        "  sens={}\n",
        "  model_save=None\n",
        "  i=0\n",
        "  #models_dict holds name and its function , like {'LR':LogsticRegression()}\n",
        "  for name,model in models_dict.items():\n",
        "    try:\n",
        "      #fitting model on the train data\n",
        "      model.fit(X_train,y_train)\n",
        "      joblib.dump(model, name+'.pkl')\n",
        "      #predicting model on X_test \n",
        "      model_save=model\n",
        "      y_pred=model.predict(X_test)\n",
        "      print('*'*100)\n",
        "      print('Model:',name)\n",
        "      #printing Confusion matrix an dAccuracy of each model\n",
        "      print(\"Confusion Matrix: \")\n",
        "      print(confusion_matrix(y_test, y_pred))\n",
        "      print(\"Accuracy : \",accuracy_score(y_test,y_pred)*100)\n",
        "\n",
        "      #mainitaing a dictionary of results of accuracy of each model to use it to plot in one systyem\n",
        "      acc[name]=accuracy_score(y_test,y_pred)*100\n",
        "      cm=confusion_matrix(y_test, y_pred)\n",
        "      sens[name] = (cm[0,0]/(cm[0,0]+cm[0,1]))*100\n",
        "      spec[name] = (cm[1,1]/(cm[1,0]+cm[1,1]))*100\n",
        "      print(\"Classificarion Report : \")\n",
        "      print(classification_report(y_test, y_pred))\n",
        "      \n",
        "    except ValueError:\n",
        "      print(name,'failed')\n",
        "  \n",
        "  #converting dictionaries to dataframes to have them handy\n",
        "  acc=pd.DataFrame.from_dict(acc,orient='index').reset_index()\n",
        "  sens=pd.DataFrame.from_dict(sens,orient='index').reset_index()\n",
        "  spec=pd.DataFrame.from_dict(spec,orient='index').reset_index()\n",
        "  # print(accuracy)\n",
        "  acc.columns=['model_name','accuracy']\n",
        "  sens.columns=['model_name','sensitivity']\n",
        "  spec.columns=['model_name','specificity']\n",
        "  \n",
        "  #plotting accuracy,sensitivity,specificity of each model\n",
        "  plt.figure(i+1,figsize=(16, 6))\n",
        "  ax = sns.lineplot(data=acc, x='model_name', y='accuracy',legend='full')\n",
        "  ax = sns.lineplot(data=sens, x='model_name', y='sensitivity',legend='full')\n",
        "  ax = sns.lineplot(data=spec, x='model_name', y='specificity',legend='full')\n",
        "  ax = sns.barplot(data=acc, x='model_name', y='accuracy')\n",
        "  plt.title('Blue :Accuracy,Orange: Senstivity,Green : Specicificity ')\n",
        "  return model_save"
      ],
      "execution_count": 0,
      "outputs": []
    },
    {
      "cell_type": "code",
      "metadata": {
        "id": "IxPfAKS0N7Z8",
        "colab_type": "code",
        "colab": {}
      },
      "source": [
        "from sklearn.model_selection import train_test_split\n",
        "from sklearn.feature_extraction.text import TfidfVectorizer\n",
        "\n",
        "from sklearn.externals import joblib \n",
        "from sklearn.ensemble import RandomForestClassifier\n",
        "from sklearn.linear_model import LogisticRegression,LinearRegression\n",
        "from sklearn.tree import DecisionTreeClassifier\n",
        "from sklearn.neighbors import KNeighborsClassifier\n",
        "from sklearn.discriminant_analysis import LinearDiscriminantAnalysis\n",
        "from sklearn.naive_bayes import GaussianNB\n",
        "from sklearn.svm import SVC\n",
        "from xgboost import XGBClassifier\n",
        "from sklearn.cluster import KMeans\n",
        "from sklearn.metrics import accuracy_score, confusion_matrix, classification_report, fbeta_score\n",
        "from sklearn.naive_bayes import MultinomialNB"
      ],
      "execution_count": 0,
      "outputs": []
    },
    {
      "cell_type": "code",
      "metadata": {
        "id": "5_WIEK-TNu7C",
        "colab_type": "code",
        "colab": {}
      },
      "source": [
        "models_dict={}\n",
        "models_dict['LogisticRegression']       = LogisticRegression()\n",
        "models_dict['Dtree']                    = DecisionTreeClassifier()\n",
        "models_dict['NB']                       = MultinomialNB()\n",
        "models_dict['RForest']                  = RandomForestClassifier()\n",
        "models_dict['SVM']                      = SVC(gamma='auto')\n",
        "models_dict['KNN']                      = KNeighborsClassifier()\n",
        "models_dict['XGB']                      = XGBClassifier()\n"
      ],
      "execution_count": 0,
      "outputs": []
    },
    {
      "cell_type": "code",
      "metadata": {
        "id": "ZkzfXOCuNyZN",
        "colab_type": "code",
        "outputId": "1d40d921-5592-4dfc-dfeb-d4574a97777d",
        "colab": {
          "base_uri": "https://localhost:8080/",
          "height": 436
        }
      },
      "source": [
        "X\n",
        "Y=data.loc[:,data.columns=='fraudulent']\n",
        "X_train, X_test, y_train, y_test = train_test_split(X, Y, test_size=0.15, random_state=1)\n",
        "print(sum(y_train.fraudulent))\n",
        "y_train"
      ],
      "execution_count": 102,
      "outputs": [
        {
          "output_type": "stream",
          "text": [
            "200\n"
          ],
          "name": "stdout"
        },
        {
          "output_type": "execute_result",
          "data": {
            "text/html": [
              "<div>\n",
              "<style scoped>\n",
              "    .dataframe tbody tr th:only-of-type {\n",
              "        vertical-align: middle;\n",
              "    }\n",
              "\n",
              "    .dataframe tbody tr th {\n",
              "        vertical-align: top;\n",
              "    }\n",
              "\n",
              "    .dataframe thead th {\n",
              "        text-align: right;\n",
              "    }\n",
              "</style>\n",
              "<table border=\"1\" class=\"dataframe\">\n",
              "  <thead>\n",
              "    <tr style=\"text-align: right;\">\n",
              "      <th></th>\n",
              "      <th>fraudulent</th>\n",
              "    </tr>\n",
              "  </thead>\n",
              "  <tbody>\n",
              "    <tr>\n",
              "      <th>3252</th>\n",
              "      <td>0</td>\n",
              "    </tr>\n",
              "    <tr>\n",
              "      <th>1163</th>\n",
              "      <td>0</td>\n",
              "    </tr>\n",
              "    <tr>\n",
              "      <th>1162</th>\n",
              "      <td>0</td>\n",
              "    </tr>\n",
              "    <tr>\n",
              "      <th>3926</th>\n",
              "      <td>0</td>\n",
              "    </tr>\n",
              "    <tr>\n",
              "      <th>329</th>\n",
              "      <td>0</td>\n",
              "    </tr>\n",
              "    <tr>\n",
              "      <th>...</th>\n",
              "      <td>...</td>\n",
              "    </tr>\n",
              "    <tr>\n",
              "      <th>905</th>\n",
              "      <td>0</td>\n",
              "    </tr>\n",
              "    <tr>\n",
              "      <th>5192</th>\n",
              "      <td>0</td>\n",
              "    </tr>\n",
              "    <tr>\n",
              "      <th>3980</th>\n",
              "      <td>0</td>\n",
              "    </tr>\n",
              "    <tr>\n",
              "      <th>235</th>\n",
              "      <td>0</td>\n",
              "    </tr>\n",
              "    <tr>\n",
              "      <th>5157</th>\n",
              "      <td>0</td>\n",
              "    </tr>\n",
              "  </tbody>\n",
              "</table>\n",
              "<p>4840 rows × 1 columns</p>\n",
              "</div>"
            ],
            "text/plain": [
              "      fraudulent\n",
              "3252           0\n",
              "1163           0\n",
              "1162           0\n",
              "3926           0\n",
              "329            0\n",
              "...          ...\n",
              "905            0\n",
              "5192           0\n",
              "3980           0\n",
              "235            0\n",
              "5157           0\n",
              "\n",
              "[4840 rows x 1 columns]"
            ]
          },
          "metadata": {
            "tags": []
          },
          "execution_count": 102
        }
      ]
    },
    {
      "cell_type": "code",
      "metadata": {
        "id": "VdROz_rzQu8_",
        "colab_type": "code",
        "outputId": "091262e1-bd57-4ca2-f736-a4b80564ea90",
        "colab": {
          "base_uri": "https://localhost:8080/",
          "height": 71
        }
      },
      "source": [
        "from imblearn.over_sampling import SMOTE\n",
        "from imblearn.under_sampling import NearMiss\n",
        "sm = SMOTE(random_state=12, sampling_strategy=0.5)\n",
        "x_train_res, y_train_res = sm.fit_sample(X_train, y_train.fraudulent)\n",
        "undersample = NearMiss(sampling_strategy=1)\n",
        "x_train_final, y_train_final = undersample.fit_sample(x_train_res, y_train_res)"
      ],
      "execution_count": 103,
      "outputs": [
        {
          "output_type": "stream",
          "text": [
            "/usr/local/lib/python3.6/dist-packages/sklearn/utils/deprecation.py:87: FutureWarning: Function safe_indexing is deprecated; safe_indexing is deprecated in version 0.22 and will be removed in version 0.24.\n",
            "  warnings.warn(msg, category=FutureWarning)\n"
          ],
          "name": "stderr"
        }
      ]
    },
    {
      "cell_type": "code",
      "metadata": {
        "id": "F1fu5pUGkrKp",
        "colab_type": "code",
        "outputId": "b281a1e2-12f3-432b-8915-36a55b102ed3",
        "colab": {
          "base_uri": "https://localhost:8080/",
          "height": 85
        }
      },
      "source": [
        "print(len(y_train_final)-sum(y_train_final))\n",
        "print(sum(y_train_final))\n",
        "print(len(y_train_res)-sum(y_train_res))\n",
        "print(sum(y_train_res))"
      ],
      "execution_count": 104,
      "outputs": [
        {
          "output_type": "stream",
          "text": [
            "2320\n",
            "2320\n",
            "4640\n",
            "2320\n"
          ],
          "name": "stdout"
        }
      ]
    },
    {
      "cell_type": "code",
      "metadata": {
        "id": "cT5FxBVwiAEP",
        "colab_type": "code",
        "colab": {}
      },
      "source": [
        "import matplotlib.pyplot as plt\n",
        "import seaborn as sns"
      ],
      "execution_count": 0,
      "outputs": []
    },
    {
      "cell_type": "code",
      "metadata": {
        "id": "7cKAJOzyOAj2",
        "colab_type": "code",
        "outputId": "499b1f6d-03a7-495e-e2bb-7bf05aefcbd0",
        "colab": {
          "base_uri": "https://localhost:8080/",
          "height": 1000
        }
      },
      "source": [
        "model_save=fitPredict(models_dict,X_train,y_train,X_test,y_test)"
      ],
      "execution_count": 106,
      "outputs": [
        {
          "output_type": "stream",
          "text": [
            "/usr/local/lib/python3.6/dist-packages/sklearn/utils/validation.py:760: DataConversionWarning: A column-vector y was passed when a 1d array was expected. Please change the shape of y to (n_samples, ), for example using ravel().\n",
            "  y = column_or_1d(y, warn=True)\n"
          ],
          "name": "stderr"
        },
        {
          "output_type": "stream",
          "text": [
            "****************************************************************************************************\n",
            "Model: LogisticRegression\n",
            "Confusion Matrix: \n",
            "[[818   0]\n",
            " [ 30   7]]\n",
            "Accuracy :  96.49122807017544\n",
            "Classificarion Report : \n",
            "              precision    recall  f1-score   support\n",
            "\n",
            "           0       0.96      1.00      0.98       818\n",
            "           1       1.00      0.19      0.32        37\n",
            "\n",
            "    accuracy                           0.96       855\n",
            "   macro avg       0.98      0.59      0.65       855\n",
            "weighted avg       0.97      0.96      0.95       855\n",
            "\n",
            "****************************************************************************************************\n",
            "Model: Dtree\n",
            "Confusion Matrix: \n",
            "[[809   9]\n",
            " [ 13  24]]\n",
            "Accuracy :  97.42690058479532\n",
            "Classificarion Report : \n",
            "              precision    recall  f1-score   support\n",
            "\n",
            "           0       0.98      0.99      0.99       818\n",
            "           1       0.73      0.65      0.69        37\n",
            "\n",
            "    accuracy                           0.97       855\n",
            "   macro avg       0.86      0.82      0.84       855\n",
            "weighted avg       0.97      0.97      0.97       855\n",
            "\n",
            "****************************************************************************************************\n",
            "Model: NB\n",
            "Confusion Matrix: \n",
            "[[818   0]\n",
            " [ 37   0]]\n",
            "Accuracy :  95.67251461988305\n",
            "Classificarion Report : \n",
            "              precision    recall  f1-score   support\n",
            "\n",
            "           0       0.96      1.00      0.98       818\n",
            "           1       0.00      0.00      0.00        37\n",
            "\n",
            "    accuracy                           0.96       855\n",
            "   macro avg       0.48      0.50      0.49       855\n",
            "weighted avg       0.92      0.96      0.94       855\n",
            "\n"
          ],
          "name": "stdout"
        },
        {
          "output_type": "stream",
          "text": [
            "/usr/local/lib/python3.6/dist-packages/sklearn/utils/validation.py:760: DataConversionWarning: A column-vector y was passed when a 1d array was expected. Please change the shape of y to (n_samples, ), for example using ravel().\n",
            "  y = column_or_1d(y, warn=True)\n",
            "/usr/local/lib/python3.6/dist-packages/sklearn/metrics/_classification.py:1272: UndefinedMetricWarning: Precision and F-score are ill-defined and being set to 0.0 in labels with no predicted samples. Use `zero_division` parameter to control this behavior.\n",
            "  _warn_prf(average, modifier, msg_start, len(result))\n",
            "/usr/local/lib/python3.6/dist-packages/ipykernel_launcher.py:12: DataConversionWarning: A column-vector y was passed when a 1d array was expected. Please change the shape of y to (n_samples,), for example using ravel().\n",
            "  if sys.path[0] == '':\n"
          ],
          "name": "stderr"
        },
        {
          "output_type": "stream",
          "text": [
            "****************************************************************************************************\n",
            "Model: RForest\n",
            "Confusion Matrix: \n",
            "[[818   0]\n",
            " [ 17  20]]\n",
            "Accuracy :  98.01169590643275\n",
            "Classificarion Report : \n",
            "              precision    recall  f1-score   support\n",
            "\n",
            "           0       0.98      1.00      0.99       818\n",
            "           1       1.00      0.54      0.70        37\n",
            "\n",
            "    accuracy                           0.98       855\n",
            "   macro avg       0.99      0.77      0.85       855\n",
            "weighted avg       0.98      0.98      0.98       855\n",
            "\n"
          ],
          "name": "stdout"
        },
        {
          "output_type": "stream",
          "text": [
            "/usr/local/lib/python3.6/dist-packages/sklearn/utils/validation.py:760: DataConversionWarning: A column-vector y was passed when a 1d array was expected. Please change the shape of y to (n_samples, ), for example using ravel().\n",
            "  y = column_or_1d(y, warn=True)\n"
          ],
          "name": "stderr"
        },
        {
          "output_type": "stream",
          "text": [
            "****************************************************************************************************\n",
            "Model: SVM\n",
            "Confusion Matrix: \n",
            "[[818   0]\n",
            " [ 37   0]]\n",
            "Accuracy :  95.67251461988305\n",
            "Classificarion Report : \n",
            "              precision    recall  f1-score   support\n",
            "\n",
            "           0       0.96      1.00      0.98       818\n",
            "           1       0.00      0.00      0.00        37\n",
            "\n",
            "    accuracy                           0.96       855\n",
            "   macro avg       0.48      0.50      0.49       855\n",
            "weighted avg       0.92      0.96      0.94       855\n",
            "\n"
          ],
          "name": "stdout"
        },
        {
          "output_type": "stream",
          "text": [
            "/usr/local/lib/python3.6/dist-packages/sklearn/metrics/_classification.py:1272: UndefinedMetricWarning: Precision and F-score are ill-defined and being set to 0.0 in labels with no predicted samples. Use `zero_division` parameter to control this behavior.\n",
            "  _warn_prf(average, modifier, msg_start, len(result))\n",
            "/usr/local/lib/python3.6/dist-packages/ipykernel_launcher.py:12: DataConversionWarning: A column-vector y was passed when a 1d array was expected. Please change the shape of y to (n_samples, ), for example using ravel().\n",
            "  if sys.path[0] == '':\n"
          ],
          "name": "stderr"
        },
        {
          "output_type": "stream",
          "text": [
            "****************************************************************************************************\n",
            "Model: KNN\n",
            "Confusion Matrix: \n",
            "[[817   1]\n",
            " [ 16  21]]\n",
            "Accuracy :  98.01169590643275\n",
            "Classificarion Report : \n",
            "              precision    recall  f1-score   support\n",
            "\n",
            "           0       0.98      1.00      0.99       818\n",
            "           1       0.95      0.57      0.71        37\n",
            "\n",
            "    accuracy                           0.98       855\n",
            "   macro avg       0.97      0.78      0.85       855\n",
            "weighted avg       0.98      0.98      0.98       855\n",
            "\n"
          ],
          "name": "stdout"
        },
        {
          "output_type": "stream",
          "text": [
            "/usr/local/lib/python3.6/dist-packages/sklearn/preprocessing/_label.py:235: DataConversionWarning: A column-vector y was passed when a 1d array was expected. Please change the shape of y to (n_samples, ), for example using ravel().\n",
            "  y = column_or_1d(y, warn=True)\n",
            "/usr/local/lib/python3.6/dist-packages/sklearn/preprocessing/_label.py:268: DataConversionWarning: A column-vector y was passed when a 1d array was expected. Please change the shape of y to (n_samples, ), for example using ravel().\n",
            "  y = column_or_1d(y, warn=True)\n"
          ],
          "name": "stderr"
        },
        {
          "output_type": "stream",
          "text": [
            "****************************************************************************************************\n",
            "Model: XGB\n",
            "Confusion Matrix: \n",
            "[[818   0]\n",
            " [ 25  12]]\n",
            "Accuracy :  97.07602339181285\n",
            "Classificarion Report : \n",
            "              precision    recall  f1-score   support\n",
            "\n",
            "           0       0.97      1.00      0.98       818\n",
            "           1       1.00      0.32      0.49        37\n",
            "\n",
            "    accuracy                           0.97       855\n",
            "   macro avg       0.99      0.66      0.74       855\n",
            "weighted avg       0.97      0.97      0.96       855\n",
            "\n"
          ],
          "name": "stdout"
        },
        {
          "output_type": "display_data",
          "data": {
            "image/png": "[encoded data removed]",
            "text/plain": [
              "<Figure size 1152x432 with 1 Axes>"
            ]
          },
          "metadata": {
            "tags": [],
            "needs_background": "light"
          }
        }
      ]
    },
    {
      "cell_type": "code",
      "metadata": {
        "id": "r7l6yQXfhHGT",
        "colab_type": "code",
        "outputId": "ac5d1971-eb8b-4ee8-d518-53dd054676dc",
        "colab": {
          "base_uri": "https://localhost:8080/",
          "height": 1000
        }
      },
      "source": [
        "model_save=fitPredict(models_dict,x_train_final,y_train_final,X_test,y_test)"
      ],
      "execution_count": 107,
      "outputs": [
        {
          "output_type": "stream",
          "text": [
            "****************************************************************************************************\n",
            "Model: LogisticRegression\n",
            "Confusion Matrix: \n",
            "[[811   7]\n",
            " [  9  28]]\n",
            "Accuracy :  98.12865497076024\n",
            "Classificarion Report : \n",
            "              precision    recall  f1-score   support\n",
            "\n",
            "           0       0.99      0.99      0.99       818\n",
            "           1       0.80      0.76      0.78        37\n",
            "\n",
            "    accuracy                           0.98       855\n",
            "   macro avg       0.89      0.87      0.88       855\n",
            "weighted avg       0.98      0.98      0.98       855\n",
            "\n",
            "****************************************************************************************************\n",
            "Model: Dtree\n",
            "Confusion Matrix: \n",
            "[[761  57]\n",
            " [ 18  19]]\n",
            "Accuracy :  91.22807017543859\n",
            "Classificarion Report : \n",
            "              precision    recall  f1-score   support\n",
            "\n",
            "           0       0.98      0.93      0.95       818\n",
            "           1       0.25      0.51      0.34        37\n",
            "\n",
            "    accuracy                           0.91       855\n",
            "   macro avg       0.61      0.72      0.64       855\n",
            "weighted avg       0.95      0.91      0.93       855\n",
            "\n",
            "****************************************************************************************************\n",
            "Model: NB\n",
            "Confusion Matrix: \n",
            "[[791  27]\n",
            " [  7  30]]\n",
            "Accuracy :  96.0233918128655\n",
            "Classificarion Report : \n",
            "              precision    recall  f1-score   support\n",
            "\n",
            "           0       0.99      0.97      0.98       818\n",
            "           1       0.53      0.81      0.64        37\n",
            "\n",
            "    accuracy                           0.96       855\n",
            "   macro avg       0.76      0.89      0.81       855\n",
            "weighted avg       0.97      0.96      0.96       855\n",
            "\n",
            "****************************************************************************************************\n",
            "Model: RForest\n",
            "Confusion Matrix: \n",
            "[[818   0]\n",
            " [ 15  22]]\n",
            "Accuracy :  98.24561403508771\n",
            "Classificarion Report : \n",
            "              precision    recall  f1-score   support\n",
            "\n",
            "           0       0.98      1.00      0.99       818\n",
            "           1       1.00      0.59      0.75        37\n",
            "\n",
            "    accuracy                           0.98       855\n",
            "   macro avg       0.99      0.80      0.87       855\n",
            "weighted avg       0.98      0.98      0.98       855\n",
            "\n",
            "****************************************************************************************************\n",
            "Model: SVM\n",
            "Confusion Matrix: \n",
            "[[817   1]\n",
            " [ 22  15]]\n",
            "Accuracy :  97.30994152046783\n",
            "Classificarion Report : \n",
            "              precision    recall  f1-score   support\n",
            "\n",
            "           0       0.97      1.00      0.99       818\n",
            "           1       0.94      0.41      0.57        37\n",
            "\n",
            "    accuracy                           0.97       855\n",
            "   macro avg       0.96      0.70      0.78       855\n",
            "weighted avg       0.97      0.97      0.97       855\n",
            "\n",
            "****************************************************************************************************\n",
            "Model: KNN\n",
            "Confusion Matrix: \n",
            "[[309 509]\n",
            " [  1  36]]\n",
            "Accuracy :  40.35087719298245\n",
            "Classificarion Report : \n",
            "              precision    recall  f1-score   support\n",
            "\n",
            "           0       1.00      0.38      0.55       818\n",
            "           1       0.07      0.97      0.12        37\n",
            "\n",
            "    accuracy                           0.40       855\n",
            "   macro avg       0.53      0.68      0.34       855\n",
            "weighted avg       0.96      0.40      0.53       855\n",
            "\n",
            "****************************************************************************************************\n",
            "Model: XGB\n",
            "Confusion Matrix: \n",
            "[[799  19]\n",
            " [ 15  22]]\n",
            "Accuracy :  96.0233918128655\n",
            "Classificarion Report : \n",
            "              precision    recall  f1-score   support\n",
            "\n",
            "           0       0.98      0.98      0.98       818\n",
            "           1       0.54      0.59      0.56        37\n",
            "\n",
            "    accuracy                           0.96       855\n",
            "   macro avg       0.76      0.79      0.77       855\n",
            "weighted avg       0.96      0.96      0.96       855\n",
            "\n"
          ],
          "name": "stdout"
        },
        {
          "output_type": "display_data",
          "data": {
            "image/png": "[encoded data removed]",
            "text/plain": [
              "<Figure size 1152x432 with 1 Axes>"
            ]
          },
          "metadata": {
            "tags": [],
            "needs_background": "light"
          }
        }
      ]
    },
    {
      "cell_type": "code",
      "metadata": {
        "id": "exzknVWvOGJc",
        "colab_type": "code",
        "colab": {}
      },
      "source": [
        ""
      ],
      "execution_count": 0,
      "outputs": []
    }
  ]
}